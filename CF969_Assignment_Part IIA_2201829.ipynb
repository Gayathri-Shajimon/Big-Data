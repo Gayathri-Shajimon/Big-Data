{
 "cells": [
  {
   "cell_type": "markdown",
   "metadata": {
    "id": "DIw0ZlQ2XN_5"
   },
   "source": [
    "### PART B - 1 - (i)"
   ]
  },
  {
   "cell_type": "markdown",
   "metadata": {
    "id": "5PW07ZSDt_q-"
   },
   "source": [
    "Let \n",
    "\n",
    "X = number of bonds purchased\n",
    "\n",
    "Y = number of shares of stock purchased by XYZ\n",
    "\n",
    "Z = number of call options purchased (if > 0) or sold (if < 0)\n",
    "\n",
    "Expected profit can be formulized by the following:\n",
    "\n",
    "i) Face value of bond is £100 and selling it at £90 pounds so the total       profit of bond is **10X**.\n",
    "\n",
    "ii) The expected profit of stock XYZ is the one third of difference between selling price and buying price.\n",
    "(Taking one third as there are three scenarios with equal likelihood)\n",
    "Stock XYZ price can remains at £20, can goes upto £40 and can drops to £20\n",
    ". So the equation will be \n",
    "\n",
    "**(20Y-20Y) + (40Y-20Y) - (20Y - 12Y) = (0Y + 20Y - 8Y)/3 = 4Y.**\n",
    "\n",
    "iii) Call Option : The expected profit from call option is also the one third of difference between selling price and buying price of call option.\n",
    "\n",
    "number of shares - 100, purchased stock XYZ price - £15, call option premium price - 1000\n",
    "\n",
    "Scenerio 1 : when stock XYZ price incresed to £40\n",
    "\n",
    "(40 * 100) - (15 * 100) - 1000 = 2500 - 1000 = 1500\n",
    "\n",
    "Scenerio 2 : when stock XYZ price is £20 \n",
    "\n",
    "(20 * 100) - (15 * 100) - 1000 = 500 - 1000 = -500\n",
    "\n",
    "Scenerio 3 : when stock XYZ price is £12\n",
    "\n",
    " Since stock is trading below the strike of $15 ,  the call option isn't exercised and it expires worthless. So, in scenerio 3, - 1000\n",
    "\n",
    "**(1500Z - 500Z - 1000Z)/3 = 0Z**\n",
    "\n",
    "Linear programming formula\n",
    "Objective :\n",
    "\n",
    "**max 10X + 4Y**\n",
    "\n",
    "Constraints:\n",
    "\n",
    "Considering the cost of Bonds, Stock XYZ and Call Option and cost cannot exceed 20000\n",
    "\n",
    "**90X + 20Y + 1000Z  <= 20000**\n",
    "\n",
    "As call option cannot exceed 50 \n",
    "\n",
    "**Z <= 50**\n",
    "\n",
    "As selling call option cannot exceed more than 50\n",
    "\n",
    "**Z >= -50**\n",
    "\n",
    "As it is not able to purchase negative quantities\n",
    "\n",
    "**X >= 0**\n",
    "\n",
    "**Y >= 0**\n",
    "\n",
    "So final Formula is \n",
    "\n",
    "**max 10X + 4Y**\n",
    "\n",
    "**90X + 20Y + 1000Z  <= 20000**\n",
    "\n",
    "**Z <= 50**\n",
    "\n",
    "**Z >= -50**\n",
    "\n",
    "**X >= 0**\n",
    "\n",
    "**Y >= 0**"
   ]
  },
  {
   "cell_type": "code",
   "execution_count": 1,
   "metadata": {
    "colab": {
     "base_uri": "https://localhost:8080/"
    },
    "id": "0F_JKPcIpBz1",
    "outputId": "15178a30-d419-4abc-ae25-4d0ffd85b044"
   },
   "outputs": [
    {
     "name": "stdout",
     "output_type": "stream",
     "text": [
      "Requirement already satisfied: gurobipy in /opt/anaconda3/lib/python3.9/site-packages (10.0.1)\r\n"
     ]
    }
   ],
   "source": [
    "!pip install gurobipy"
   ]
  },
  {
   "cell_type": "code",
   "execution_count": 2,
   "metadata": {
    "colab": {
     "base_uri": "https://localhost:8080/"
    },
    "id": "ctBEIPrCXQCv",
    "outputId": "24bfb772-7b61-45f6-f89d-bad3dd270a93"
   },
   "outputs": [
    {
     "name": "stdout",
     "output_type": "stream",
     "text": [
      "Restricted license - for non-production use only - expires 2024-10-28\n",
      "Gurobi Optimizer version 10.0.1 build v10.0.1rc0 (mac64[x86])\n",
      "\n",
      "CPU model: Intel(R) Core(TM) i5-5350U CPU @ 1.80GHz\n",
      "Thread count: 2 physical cores, 4 logical processors, using up to 4 threads\n",
      "\n",
      "Optimize a model with 5 rows, 3 columns and 7 nonzeros\n",
      "Model fingerprint: 0x04d75878\n",
      "Coefficient statistics:\n",
      "  Matrix range     [1e+00, 1e+03]\n",
      "  Objective range  [4e+00, 1e+01]\n",
      "  Bounds range     [5e+01, 5e+01]\n",
      "  RHS range        [5e+01, 2e+04]\n",
      "Presolve removed 5 rows and 3 columns\n",
      "Presolve time: 0.12s\n",
      "Presolve: All rows and columns removed\n",
      "Iteration    Objective       Primal Inf.    Dual Inf.      Time\n",
      "       0    1.4000000e+04   0.000000e+00   0.000000e+00      0s\n",
      "\n",
      "Solved in 0 iterations and 0.15 seconds (0.00 work units)\n",
      "Optimal objective  1.400000000e+04\n",
      "Optimal solution:\n",
      "X =  0.0\n",
      "Y =  3500.0\n",
      "Z =  -50.0\n",
      "Optimal profit =  14000.0\n"
     ]
    }
   ],
   "source": [
    "from gurobipy import *\n",
    "\n",
    "model_stock = Model()\n",
    "\n",
    "#  creating decision variables\n",
    "X = model_stock.addVar(vtype=GRB.CONTINUOUS, lb=0, name=\"X\")              #number of bonds purchased\n",
    "Y = model_stock.addVar(vtype=GRB.CONTINUOUS, lb=0, name=\"Y\")              # number of shares of stock purchased by XYZ\n",
    "Z = model_stock.addVar(vtype=GRB.CONTINUOUS, lb=-50, ub=50, name=\"Z\")     #number of call options purchased\n",
    "\n",
    "# Setting up objective function\n",
    "model_stock.setObjective(10*X + 4*Y, GRB.MAXIMIZE)\n",
    "\n",
    "model_stock.addConstr(90*X + 20*Y + 1000*Z <= 20000, \"budget_constraint\") # 90X + 20Y + 1000Z <= 20000\n",
    "model_stock.addConstr(Z <= 50, \"call_option_limit\")                       # Z <= 50\n",
    "model_stock.addConstr(Z >= -50, \"nonnegativity_Z\")                        # Z >= -50\n",
    "model_stock.addConstr(X >= 0, \"nonnegativity_X\")                          # X >= 0\n",
    "model_stock.addConstr(Y >= 0, \"nonnegativity_Y\")                          # Y >= 0\n",
    "\n",
    "model_stock.optimize()                                                    # Optimizing  the model\n",
    "\n",
    "if model_stock.status == GRB.OPTIMAL:                                     # Checking status of optimization status\n",
    "    # Get optimal solution\n",
    "    opt_X = X.x\n",
    "    opt_Y = Y.x\n",
    "    opt_Z = Z.x\n",
    "    opt_profit = model_stock.objVal\n",
    "    print(\"Optimal solution:\")\n",
    "    print(\"X = \", opt_X)\n",
    "    print(\"Y = \", opt_Y)\n",
    "    print(\"Z = \", opt_Z)\n",
    "    print(\"Optimal profit = \", opt_profit)\n",
    "else:\n",
    "    print(\"Optimization failed. Status:\", model_stock.status)\n"
   ]
  },
  {
   "cell_type": "code",
   "execution_count": 3,
   "metadata": {
    "colab": {
     "base_uri": "https://localhost:8080/",
     "height": 472
    },
    "id": "Jov0Y_MNiCeD",
    "outputId": "c18dab43-6cd5-4d2f-9d63-132981ede814"
   },
   "outputs": [
    {
     "data": {
      "image/png": "[encoded data removed]",
      "text/plain": [
       "<Figure size 640x480 with 1 Axes>"
      ]
     },
     "metadata": {},
     "output_type": "display_data"
    }
   ],
   "source": [
    "import matplotlib.pyplot as plt\n",
    "\n",
    "labels = ['X', 'Y', 'Z', 'Profit']\n",
    "values = [opt_X, opt_Y, opt_Z, opt_profit]\n",
    "\n",
    "plt.bar(labels, values)                          # Plot the bar chart for the optimal solution\n",
    "plt.ylabel('Optimal Solution :')\n",
    "plt.xlabel('Variables')\n",
    "plt.title('Optimal Solution for the Variables')\n",
    "plt.show()"
   ]
  },
  {
   "cell_type": "markdown",
   "metadata": {
    "id": "626bkD-Qrk3V"
   },
   "source": [
    "From the results we can interpret the following \n",
    "\n",
    "X (Bond) - The optimal solution suggest that we should not purchase bonds, means allocating investment to bond doesnot contribute for maximizing the profit.\n",
    "\n",
    "Y (Stock XYZ) - The solution suggest that , we should purchase 3500 stocks of XYZ, which will help in maximizing the profit.\n",
    "\n",
    "Z (Call option) - From the optimal solution, we can interpret that we should sold 50 call option as value is -50, which will help to maximizing the profit."
   ]
  },
  {
   "cell_type": "markdown",
   "metadata": {
    "id": "eaqXGT08ubkS"
   },
   "source": [
    "### PART B - 1 - (ii)"
   ]
  },
  {
   "cell_type": "markdown",
   "metadata": {
    "id": "IpH96eoiubr7"
   },
   "source": [
    "Objective function: **(1/3)(P1 + P2 + P3)**\n",
    "\n",
    "The investor's goal is to maximise their predicted profit, which is determined by averaging the gains from three possible scenarios. The variables P1, P2, and P3 indicate the anticipated profit in each scenario, and the objective function determines the average of these three profits using the formula (1/3)(P1 + P2 + P3). \n",
    "\n",
    "1/3 is used as we have 3 scenerios and are equally likely\n",
    "\n",
    "Budget constraint: **90X + 20Y + 1000Z ≤ 20000**\n",
    "\n",
    "\n",
    "\n",
    "i) Profit in scenario 1: Stock XYZ - £40\n",
    "\n",
    "The left-hand side of the equation 10X + 20Y + 1500Z represents the total revenue from selling bonds, shares of company XYZ, and call options, and this revenue is used to calculate the profit in scenario 1. This profit is equal to the variable P1.\n",
    "\n",
    "(100X-90X) + (40Y-20Y) + ((4000-1500)-1000)Z = P1\n",
    "\n",
    "**10X + 20Y + 1500Z = P1**\n",
    "\n",
    "\n",
    "\n",
    "ii) Profit in scenario 2: Stock XYZ - £20\n",
    "\n",
    "The left-hand side of the equation 10X - 500Z represents the total revenue from selling bonds, shares of company XYZ, and call options, and this revenue is used to calculate the profit in scenario 2. This profit is equal to the variable P2.\n",
    "\n",
    "(100X-90X) + (20Y-20Y) + ((2000-1500)-1000)Z = P1\n",
    "\n",
    "**10X - 500Z = P2**\n",
    "\n",
    "\n",
    "\n",
    "ii) Profit in scenario 3: Stock XYZ - £12\n",
    "\n",
    "The left-hand side of the equation 10X - 8Y - 1000C represents the total revenue from selling bonds, shares of company XYZ, and call options, and this revenue is used to calculate the profit in scenario 3. This profit is equal to the variable P3.\n",
    "\n",
    "(100X-90X) + (12Y-20Y) + (0-1000)Z = P1\n",
    "\n",
    "**10X - 8Y - 1000Z = P3**\n",
    "\n",
    "Expected profit constraints: **P1 ≥ 2000, P2 ≥ 2000, P3 ≥ 2000**\n",
    "\n",
    "The investor wants to make sure that each scenario's expected profit is at least $2000. So, P1 ≥ 2000, P2 ≥ 2000, and P3 ≥ 2000 \n",
    "\n",
    "Limit on number of call options purchased or sold: **Z ≤ 50 and Z ≥ -50**\n",
    "\n",
    "The investor has a limit on the number of call options that can be purchased or sold, which is at most 50. These constraints are represented by the formulas C ≤ 50 and C ≥ -50, which ensure that the number of call options is within the specified limit.\n",
    "\n",
    "Non-negativity constraint: X ≥ 0, Y ≥ 0, Z ≥ 0\n",
    "\n",
    "The decision variables X, Y, and Z, which represent the number of bonds, shares of stock XYZ, and call options, respectively, should be non-negative, as it is not possible to have a negative number of investments. These constraints are represented by the formulas X ≥ 0, Y ≥ 0, and Z ≥ 0\n",
    "\n",
    "\n",
    "Objective function: (1/3)(P1 + P2 + P3)\n",
    "\n",
    "       90X + 20Y + 1000Z ≤ 20000 (Budget Constraint)\n",
    "\n",
    "       10X + 20Y + 1500Z = P1    (when stock price is £40)\n",
    "\n",
    "       10X - 500Z = P2           (when stock price is £20)\n",
    "\n",
    "       10X - 8Y - 1000Z = P3     (when stock price is £100)\n",
    "\n",
    "       P1 ≥ 2000              (as profit should be greater than or equal 2000)\n",
    "\n",
    "       P2 ≥ 2000\n",
    "\n",
    "       P3 ≥ 2000\n",
    "\n",
    "       Z ≤ 50 (no: of call options, purchased or sold, which is at most 50)\n",
    "\n",
    "       Z ≥ -50\n",
    "\n",
    "       X ≥ 0, Y ≥ 0, Z ≥ 0      (Non-negativity constraint)"
   ]
  },
  {
   "cell_type": "code",
   "execution_count": 4,
   "metadata": {
    "colab": {
     "base_uri": "https://localhost:8080/"
    },
    "id": "dIXe13_go8ra",
    "outputId": "675eca8e-0d17-428a-988b-c16e117939e1"
   },
   "outputs": [
    {
     "name": "stdout",
     "output_type": "stream",
     "text": [
      "Gurobi Optimizer version 10.0.1 build v10.0.1rc0 (mac64[x86])\n",
      "\n",
      "CPU model: Intel(R) Core(TM) i5-5350U CPU @ 1.80GHz\n",
      "Thread count: 2 physical cores, 4 logical processors, using up to 4 threads\n",
      "\n",
      "Optimize a model with 9 rows, 6 columns and 19 nonzeros\n",
      "Model fingerprint: 0xed64f8ce\n",
      "Coefficient statistics:\n",
      "  Matrix range     [1e+00, 2e+03]\n",
      "  Objective range  [3e-01, 3e-01]\n",
      "  Bounds range     [5e+01, 2e+03]\n",
      "  RHS range        [5e+01, 2e+04]\n",
      "Presolve removed 5 rows and 0 columns\n",
      "Presolve time: 0.12s\n",
      "Presolved: 4 rows, 6 columns, 14 nonzeros\n",
      "\n",
      "Iteration    Objective       Primal Inf.    Dual Inf.      Time\n",
      "       0    6.6177223e+04   3.601495e+03   0.000000e+00      0s\n",
      "       4    1.1200000e+04   0.000000e+00   0.000000e+00      0s\n",
      "\n",
      "Solved in 4 iterations and 0.17 seconds (0.00 work units)\n",
      "Optimal objective  1.120000000e+04\n",
      "Optimal Solution:\n",
      "X = 0.0\n",
      "Y = 2800.0\n",
      "Z = -36.0\n",
      "P1 = 2000.0\n",
      "P2 = 18000.0\n",
      "P3 = 13600.0\n",
      "Maximum Value of Objective = 11200.0\n"
     ]
    }
   ],
   "source": [
    "import gurobipy as gp\n",
    "\n",
    "# model creation\n",
    "model_profit = gp.Model(\"Maximize_Profit\")\n",
    "\n",
    "# Define decision variables\n",
    "X = model_profit.addVar(lb=0, vtype=gp.GRB.CONTINUOUS, name=\"X\") \n",
    "Y = model_profit.addVar(lb=0, vtype=gp.GRB.CONTINUOUS, name=\"Y\")  \n",
    "Z = model_profit.addVar(lb=-50, ub=50, vtype=gp.GRB.CONTINUOUS, name=\"Z\")  \n",
    "P1 = model_profit.addVar(lb=2000, vtype=gp.GRB.CONTINUOUS, name=\"P1\") \n",
    "P2 = model_profit.addVar(lb=2000, vtype=gp.GRB.CONTINUOUS, name=\"P2\")\n",
    "P3 = model_profit.addVar(lb=2000, vtype=gp.GRB.CONTINUOUS, name=\"P3\") \n",
    "\n",
    "# Update the model to integrate new variables\n",
    "model_profit.update()\n",
    "\n",
    "# Set the objective function\n",
    "model_profit.setObjective(1/3 * P1 + 1/3 * P2 + 1/3 * P3, gp.GRB.MAXIMIZE)  # Maximize: 1/3 P1 + 1/3 P2 + 1/3 P3\n",
    "\n",
    "# Add constraints\n",
    "model_profit.addConstr(90 * X + 20 * Y + 1000 * Z <= 20000, \"cons1\")   # 90X + 20Y + 1000Z <= 20000\n",
    "model_profit.addConstr(10 * X + 20 * Y + 1500 * Z == P1, \"cons2\")      # 10X + 20Y + 1500Z = P1\n",
    "model_profit.addConstr(10 * X - 500 * Z == P2, \"cons3\")                # 10X - 500Z  = P2\n",
    "model_profit.addConstr(10 * X - 8*Y - 1000 * Z == P3, \"cons4\")         # 10X -8y - 1000Z = P3\n",
    "model_profit.addConstr(Z <= 50, \"cons5\")                               # Z <= 50\n",
    "model_profit.addConstr(Z >= -50, \"cons6\")                              # Z >= -50\n",
    "model_profit.addConstr(P1 >= 2000, \"cons7\")                            # P1 >= 2000\n",
    "model_profit.addConstr(P2 >= 2000, \"cons8\")                            # P2 >= 2000\n",
    "model_profit.addConstr(P3 >= 2000, \"cons9\")                            # P3 >= 2000\n",
    "\n",
    "\n",
    "model_profit.optimize()                                                # Model optimization\n",
    "\n",
    "\n",
    "if model_profit.status == gp.GRB.OPTIMAL:                              # Optimization result\n",
    "    print(\"Optimal Solution:\")\n",
    "    print(\"X =\", X.x)\n",
    "    print(\"Y =\", Y.x)\n",
    "    print(\"Z =\", Z.x)\n",
    "    print(\"P1 =\", P1.x)\n",
    "    print(\"P2 =\", P2.x)\n",
    "    print(\"P3 =\", P3.x)\n",
    "    print(\"Maximum Value of Objective =\", model_profit.objVal)\n",
    "else:\n",
    "    print(\"Optimization failed :\", model_profit.status)\n"
   ]
  },
  {
   "cell_type": "code",
   "execution_count": 5,
   "metadata": {
    "colab": {
     "base_uri": "https://localhost:8080/",
     "height": 447
    },
    "id": "T_fUxID6ngF_",
    "outputId": "b90dc1b8-fce6-4646-b615-d37ced545647"
   },
   "outputs": [
    {
     "data": {
      "text/plain": [
       "<bound method _make_class_factory.<locals>.class_factory.<locals>.subcls.set of <AxesSubplot:ylabel='Value'>>"
      ]
     },
     "execution_count": 5,
     "metadata": {},
     "output_type": "execute_result"
    },
    {
     "data": {
      "image/png": "[encoded data removed]",
      "text/plain": [
       "<Figure size 640x480 with 1 Axes>"
      ]
     },
     "metadata": {},
     "output_type": "display_data"
    }
   ],
   "source": [
    "labels = ['X', 'Y', 'Z', 'P1', 'P2', 'P3']\n",
    "values = [X.x, Y.x, Z.x, P1.x, P2.x, P3.x]\n",
    "fig, ax = plt.subplots()\n",
    "ax.bar(labels, values)\n",
    "ax.set_ylabel('Value')\n",
    "ax.set"
   ]
  },
  {
   "cell_type": "markdown",
   "metadata": {
    "id": "ZVUelzZjf7fB"
   },
   "source": [
    "Based on the optimal solution obtained from the linear program, the following can be interpreted:\n",
    "\n",
    "**Optimal Portfolio**: The optimal solution suggests that the investor should buy 2,800 shares of stock XYZ and sell 36 call options. This portfolio maximizes the expected profit.\n",
    "\n",
    "**Expected Profit**: The expected profit from this portfolio is 11200 which is calculated as the expected worth in six months (£31,200) minus the initial investment (£20,000).\n",
    "\n",
    "**Risk Management**: By considering three different scenarios for the price of stock XYZ in six months and limiting the number of call options bought or sold to at most 50, the investor is able to manage risk and ensure a minimum profit of £2,000 in each scenario.\n",
    "\n",
    "**Diversification**: The optimal portfolio includes both stocks and options, providing diversification in the investment strategy. The investor can potentially benefit from both the stock's price appreciation and the premiums received from selling call options.\n",
    "\n",
    "**Budget Constraint**: The budget constraint is satisfied, as the total cost of buying stocks and bonds, and selling call options does not exceed the initial investment of £20,000.\n",
    "\n",
    "Overall, the linear programming approach allows the investor to optimize their investment strategy while considering different scenarios, risk management, and budget constraints, resulting in a portfolio that maximizes expected profit.\n",
    "\n",
    "\n",
    "\n",
    "\n"
   ]
  }
 ],
 "metadata": {
  "colab": {
   "provenance": []
  },
  "kernelspec": {
   "display_name": "Python 3 (ipykernel)",
   "language": "python",
   "name": "python3"
  },
  "language_info": {
   "codemirror_mode": {
    "name": "ipython",
    "version": 3
   },
   "file_extension": ".py",
   "mimetype": "text/x-python",
   "name": "python",
   "nbconvert_exporter": "python",
   "pygments_lexer": "ipython3",
   "version": "3.9.13"
  }
 },
 "nbformat": 4,
 "nbformat_minor": 1
}
